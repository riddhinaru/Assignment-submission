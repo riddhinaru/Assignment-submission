{
  "nbformat": 4,
  "nbformat_minor": 0,
  "metadata": {
    "colab": {
      "name": "assignment2.pynb",
      "provenance": [],
      "authorship_tag": "ABX9TyOdW6ft4CA7wX6jBADRwO/Y",
      "include_colab_link": true
    },
    "kernelspec": {
      "name": "python3",
      "display_name": "Python 3"
    },
    "language_info": {
      "name": "python"
    }
  },
  "cells": [
    {
      "cell_type": "markdown",
      "metadata": {
        "id": "view-in-github",
        "colab_type": "text"
      },
      "source": [
        "<a href=\"https://colab.research.google.com/github/riddhinaru/Assignment-submission/blob/main/assignment2_pynb.ipynb\" target=\"_parent\"><img src=\"https://colab.research.google.com/assets/colab-badge.svg\" alt=\"Open In Colab\"/></a>"
      ]
    },
    {
      "cell_type": "code",
      "metadata": {
        "id": "ARlamrAj42l3"
      },
      "source": [
        ""
      ],
      "execution_count": 4,
      "outputs": []
    },
    {
      "cell_type": "code",
      "metadata": {
        "colab": {
          "base_uri": "https://localhost:8080/",
          "height": 129
        },
        "id": "Qi-QSCqq47FS",
        "outputId": "1913cc18-c710-4915-d024-22a8befd2bd1"
      },
      "source": [
        "#Python Program to find the Prime Number\n",
        "Number =int(input(\"Please enter any Number:\"))\n",
        "count = 0\n",
        "i = 2\n",
        "\n",
        "while(i <= Number//2):\n",
        "  if(Number % i== 0):\n",
        "      count = count + 1\n",
        "      break\n",
        "    i =i + 1\n",
        "\n",
        "if(count == 0 and Number != 1):\n",
        "   print(\" %d is a Prime Number\" %Number)\n",
        "else:\n",
        "   print(\" %d is not a Prime Number\" %Number)"
      ],
      "execution_count": 5,
      "outputs": [
        {
          "output_type": "error",
          "ename": "IndentationError",
          "evalue": "ignored",
          "traceback": [
            "\u001b[0;36m  File \u001b[0;32m\"<ipython-input-5-973d7b0cb7ee>\"\u001b[0;36m, line \u001b[0;32m10\u001b[0m\n\u001b[0;31m    i =i + 1\u001b[0m\n\u001b[0m            ^\u001b[0m\n\u001b[0;31mIndentationError\u001b[0m\u001b[0;31m:\u001b[0m unindent does not match any outer indentation level\n"
          ]
        }
      ]
    }
  ]
}